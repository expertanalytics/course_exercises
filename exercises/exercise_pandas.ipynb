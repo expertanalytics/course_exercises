{
 "cells": [
  {
   "cell_type": "markdown",
   "metadata": {},
   "source": [
    "### Reading XLS with pandas\n",
    "\n",
    "One of the most useful features of python is its rich library environment. A fairly recent contribution to the pantheon of polular libraries for analysis is `pandas`. In this notebook we will explore opening and simple manipulations on a `.xls`file using `pandas`. \n",
    "\n",
    "A core functionality of `pandas`is its ability to read popular data-storage filetypes. We begin by loading a prepared spreadsheet into the notebook. "
   ]
  },
  {
   "cell_type": "code",
   "execution_count": 3,
   "metadata": {},
   "outputs": [],
   "source": [
    "import pandas as pd\n",
    "\n",
    "df = pd.read_excel(\"../sources/example.xls\")"
   ]
  },
  {
   "cell_type": "markdown",
   "metadata": {},
   "source": [
    "One of the very neat features of the notebook is the ability to display features of of the dataframe in-line:"
   ]
  },
  {
   "cell_type": "code",
   "execution_count": 6,
   "metadata": {},
   "outputs": [
    {
     "data": {
      "text/html": [
       "<div>\n",
       "<style scoped>\n",
       "    .dataframe tbody tr th:only-of-type {\n",
       "        vertical-align: middle;\n",
       "    }\n",
       "\n",
       "    .dataframe tbody tr th {\n",
       "        vertical-align: top;\n",
       "    }\n",
       "\n",
       "    .dataframe thead th {\n",
       "        text-align: right;\n",
       "    }\n",
       "</style>\n",
       "<table border=\"1\" class=\"dataframe\">\n",
       "  <thead>\n",
       "    <tr style=\"text-align: right;\">\n",
       "      <th></th>\n",
       "      <th>Total consumption</th>\n",
       "      <th>A1 consumption</th>\n",
       "      <th>A2 consumption</th>\n",
       "    </tr>\n",
       "  </thead>\n",
       "  <tbody>\n",
       "    <tr>\n",
       "      <th>2008-01-01 00:00:00</th>\n",
       "      <td>21.600000</td>\n",
       "      <td>24.000000</td>\n",
       "      <td>NaN</td>\n",
       "    </tr>\n",
       "    <tr>\n",
       "      <th>2008-01-01 06:08:14</th>\n",
       "      <td>21.703157</td>\n",
       "      <td>24.127967</td>\n",
       "      <td>NaN</td>\n",
       "    </tr>\n",
       "    <tr>\n",
       "      <th>2008-01-01 12:16:29</th>\n",
       "      <td>21.806125</td>\n",
       "      <td>24.255702</td>\n",
       "      <td>28.258308</td>\n",
       "    </tr>\n",
       "    <tr>\n",
       "      <th>2008-01-01 18:24:44</th>\n",
       "      <td>21.908885</td>\n",
       "      <td>24.383184</td>\n",
       "      <td>28.387081</td>\n",
       "    </tr>\n",
       "    <tr>\n",
       "      <th>2008-01-02 00:32:58</th>\n",
       "      <td>22.011418</td>\n",
       "      <td>24.510395</td>\n",
       "      <td>28.515566</td>\n",
       "    </tr>\n",
       "  </tbody>\n",
       "</table>\n",
       "</div>"
      ],
      "text/plain": [
       "                     Total consumption  A1 consumption  A2 consumption\n",
       "2008-01-01 00:00:00          21.600000       24.000000             NaN\n",
       "2008-01-01 06:08:14          21.703157       24.127967             NaN\n",
       "2008-01-01 12:16:29          21.806125       24.255702       28.258308\n",
       "2008-01-01 18:24:44          21.908885       24.383184       28.387081\n",
       "2008-01-02 00:32:58          22.011418       24.510395       28.515566"
      ]
     },
     "execution_count": 6,
     "metadata": {},
     "output_type": "execute_result"
    }
   ],
   "source": [
    "df.head()"
   ]
  },
  {
   "cell_type": "markdown",
   "metadata": {},
   "source": [
    "As we see the data is some time-stamped measure of consumption with some entires missing. "
   ]
  },
  {
   "cell_type": "markdown",
   "metadata": {},
   "source": [
    "###  Ex 1. Visualization"
   ]
  },
  {
   "cell_type": "markdown",
   "metadata": {},
   "source": [
    "#### Ex1.a \n",
    "Visualize the three individual columns in the data-frame as a time-series plot."
   ]
  },
  {
   "cell_type": "code",
   "execution_count": 7,
   "metadata": {},
   "outputs": [],
   "source": [
    "#implement here"
   ]
  },
  {
   "cell_type": "markdown",
   "metadata": {},
   "source": [
    "### Ex 2. Missing data"
   ]
  },
  {
   "cell_type": "markdown",
   "metadata": {},
   "source": [
    "#### Ex2.a\n",
    "Find the proportion of missing data in each column."
   ]
  },
  {
   "cell_type": "code",
   "execution_count": 8,
   "metadata": {},
   "outputs": [],
   "source": [
    "#implement here"
   ]
  },
  {
   "cell_type": "markdown",
   "metadata": {},
   "source": [
    "#### Ex2.b\n",
    "Fill in the missing data in the dataframe"
   ]
  },
  {
   "cell_type": "code",
   "execution_count": 1,
   "metadata": {},
   "outputs": [],
   "source": [
    "#implement here"
   ]
  }
 ],
 "metadata": {
  "kernelspec": {
   "display_name": "Python 3",
   "language": "python",
   "name": "python3"
  },
  "language_info": {
   "codemirror_mode": {
    "name": "ipython",
    "version": 3
   },
   "file_extension": ".py",
   "mimetype": "text/x-python",
   "name": "python",
   "nbconvert_exporter": "python",
   "pygments_lexer": "ipython3",
   "version": "3.7.5"
  }
 },
 "nbformat": 4,
 "nbformat_minor": 2
}
