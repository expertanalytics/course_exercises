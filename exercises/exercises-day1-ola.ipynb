{
 "cells": [
  {
   "cell_type": "markdown",
   "metadata": {
    "tags": [
     "nosolution"
    ]
   },
   "source": [
    "# Exercises"
   ]
  },
  {
   "cell_type": "markdown",
   "metadata": {},
   "source": [
    "### Ex 1 - Getting started with running code in a notebook\n",
    "First lets go through some basic examples to explain editing and running of notebook cells. In the Help menu you can find a list of keyboard shortcuts and a tour of the notebook user interface. You don't need to learn all that now, but do take a look later if you intend to use notebooks a lot."
   ]
  },
  {
   "cell_type": "markdown",
   "metadata": {},
   "source": [
    "#### Ex 1a - Moving between cells and running them\n",
    "\n",
    "* When there's a blue box around a cell you can move up and down with arrow keys. Press `Enter` or click in the textbox to start editing the cell.\n",
    "* When there's a green box around a cell you can edit the text in it. `Enter` inserts a new line, `Shift+Enter` runs the code in the cell.\n",
    "\n",
    "Run the following cell by clicking in it then pressing `Shift+Enter`:"
   ]
  },
  {
   "cell_type": "code",
   "execution_count": null,
   "metadata": {},
   "outputs": [],
   "source": [
    "x = 7 * 6\n",
    "print(x)"
   ]
  },
  {
   "cell_type": "markdown",
   "metadata": {},
   "source": [
    "Try the next one as well, see how the variable x defined in the previous cell is available:"
   ]
  },
  {
   "cell_type": "code",
   "execution_count": null,
   "metadata": {},
   "outputs": [],
   "source": [
    "print(x)"
   ]
  },
  {
   "cell_type": "markdown",
   "metadata": {},
   "source": [
    "Placing a variable alone on the last line displays it. We'll be using `print(x)` instead for the rest of the examples, since that can be used any place in the cell.\n",
    "\n",
    "Try running this cell:"
   ]
  },
  {
   "cell_type": "code",
   "execution_count": null,
   "metadata": {},
   "outputs": [],
   "source": [
    "x = 3 * 1.2\n",
    "x"
   ]
  },
  {
   "cell_type": "markdown",
   "metadata": {},
   "source": [
    "Now go up the the `print(x)` cell above and run it again. Note that the value of variables is determined by the order you execute the cells, not the order of the cells in the notebook document. The execution order is recorded as `In[4]` to the left.\n",
    "\n",
    "To clear all previously defined variables, use the menu `Kernel -> Restart & Clear output`."
   ]
  },
  {
   "cell_type": "markdown",
   "metadata": {},
   "source": [
    "#### Ex 1b - Debugging a faulty program\n",
    "\n",
    "Programs are rarely correct on the first try. Here's an attempt at computing total cost of a number of items.\n",
    "\n",
    "* Try running the next cell. Is the printed total correct?\n",
    "* Fix the code so the total is computed correctly and run again."
   ]
  },
  {
   "cell_type": "code",
   "execution_count": null,
   "metadata": {
    "tags": [
     "nosolution"
    ]
   },
   "outputs": [],
   "source": [
    "price = 15.0\n",
    "quantity = 3\n",
    "total = price + quantity\n",
    "print(total)\n",
    "\n",
    "a = 10\n",
    "b = [1, 2, 3, 4, 5]"
   ]
  },
  {
   "cell_type": "markdown",
   "metadata": {},
   "source": [
    "### Ex 2 - Variables"
   ]
  },
  {
   "cell_type": "markdown",
   "metadata": {},
   "source": [
    "#### Ex 2a - Counting with integers\n",
    "Lets warm up with some basic integer variables. After each step, use `print` to inspect the variable values. Try to figure out what will be printed _before_ running the cell.\n",
    "\n",
    "* Set a variable `i` to any integer number.\n",
    "* Set another variable `j` to equal `i + 2`.\n",
    "* Add another integer number to `i`. What is the value of `j` now?"
   ]
  },
  {
   "cell_type": "code",
   "execution_count": null,
   "metadata": {
    "tags": [
     "nosolution"
    ]
   },
   "outputs": [],
   "source": [
    "# Implement here!"
   ]
  },
  {
   "cell_type": "markdown",
   "metadata": {},
   "source": [
    "#### Ex 2b - Swap two variables\n",
    "Someone has mixed up the first and last name here, add code to swap the values of the two variables."
   ]
  },
  {
   "cell_type": "code",
   "execution_count": null,
   "metadata": {
    "tags": [
     "nosolution"
    ]
   },
   "outputs": [],
   "source": [
    "first = \"Trump\"\n",
    "last = \"Donald\"\n",
    "\n",
    "# Implement here!\n",
    "first, last = last, first\n",
    "\n",
    "print(first, last)"
   ]
  },
  {
   "cell_type": "markdown",
   "metadata": {},
   "source": [
    "### Ex 3 - Calculations with variables"
   ]
  },
  {
   "cell_type": "markdown",
   "metadata": {},
   "source": [
    "#### Ex 3a - Buying fruit\n",
    "Given the price and quantity of apples and pears provided here, compute\n",
    "\n",
    "* The number of fruits.\n",
    "* The average cost of a fruit.\n",
    "* The total cost of this checkout.\n",
    "\n",
    "Store each in its own variable and print it."
   ]
  },
  {
   "cell_type": "code",
   "execution_count": null,
   "metadata": {
    "tags": [
     "nosolution"
    ]
   },
   "outputs": [],
   "source": [
    "apples = 7\n",
    "apple_price = 1.0\n",
    "\n",
    "pears = 2\n",
    "pear_price = 1.2\n",
    "\n",
    "num_fruits = 0\n",
    "tot_price = 0.0\n",
    "for n, p in zip((apples, pears),(apple_price, pear_price)):\n",
    "    num_fruits += n\n",
    "    tot_price += n*p\n",
    "print(\"The total number of fruits is:  {:>7d}    pcs\".format(num_fruits))\n",
    "print(\"The average cost of a fruit is: {:>10.2f} NOK\".format(tot_price/num_fruits))\n",
    "print(\"The total cost of checkout is:  {:>10.2f} NOK\".format(tot_price))\n",
    "\n",
    "# Implement here!"
   ]
  },
  {
   "cell_type": "markdown",
   "metadata": {},
   "source": [
    "#### Ex 3b - Integer division and rounding of numbers\n",
    "As a storage worker, you need to pack some items into crates. Naturally you sit down and write a small python program to figure out how best to do this.\n",
    "\n",
    "* How many crates can be filled completely with the number of items?\n",
    "* Compute the remainder, how many items are left in the last crate?\n",
    "* From the number of filled crates and the remainder, compute how many items you originally had. Does it match the original number of items? If not, you have a bug in your program and need to find and fix it!"
   ]
  },
  {
   "cell_type": "code",
   "execution_count": null,
   "metadata": {
    "tags": [
     "nosolution"
    ]
   },
   "outputs": [],
   "source": [
    "items = 123\n",
    "crate_size = 20\n",
    "print(\"items: {}, crate size: {}\".format(items, crate_size))\n",
    "\n",
    "num_crates = items // crate_size\n",
    "rest = items % crate_size\n",
    "\n",
    "print(\"We need {} full crates\".format(num_crates), end=\"\")\n",
    "if rest:\n",
    "    print(\", and one additional with {} items.\".format(rest))\n",
    "else:\n",
    "    print(\".\")\n",
    "assert crate_size*num_crates + rest == items\n",
    "# Implement here!"
   ]
  },
  {
   "cell_type": "markdown",
   "metadata": {},
   "source": [
    "#### Ex 3c - Investigating the behaviour of floating point numbers\n",
    "Lets try a simple calculation with floating point numbers:\n",
    "\n",
    "* Set a variable to 0.7 (pick your own variable name)\n",
    "* Add 0.1 to the variable\n",
    "* Print the variable"
   ]
  },
  {
   "cell_type": "code",
   "execution_count": null,
   "metadata": {
    "tags": [
     "nosolution"
    ]
   },
   "outputs": [],
   "source": [
    "# Implement here!"
   ]
  },
  {
   "cell_type": "markdown",
   "metadata": {},
   "source": [
    "Are you surprised by the result? Floating point numbers have high precision but are not exact.\n",
    "\n",
    "* Print the difference between `result` and `0.8` to see approximately how precise these numbers are."
   ]
  },
  {
   "cell_type": "code",
   "execution_count": null,
   "metadata": {
    "tags": [
     "nosolution"
    ]
   },
   "outputs": [],
   "source": [
    "# Print difference between result and 0.8 here"
   ]
  },
  {
   "cell_type": "markdown",
   "metadata": {},
   "source": [
    "The difference you just printed should be on a format like `1.23e-9` which means $1.23 \\times 10^{-9}$. The exponent of the number you printed is approximately the number of accurate digits in a float.\n",
    "\n",
    "The next cell prints the number 0.7 with only 3 decimals, which gets rounded to 0.700 in the string formatting.\n",
    "\n",
    "* To avoid the rounding, change the number of decimals from 3 to a number larger than the number of accurate digits you found above."
   ]
  },
  {
   "cell_type": "code",
   "execution_count": null,
   "metadata": {
    "tags": [
     "nosolution"
    ]
   },
   "outputs": [],
   "source": [
    "print(\"{:.3f}\".format(0.7))"
   ]
  },
  {
   "cell_type": "markdown",
   "metadata": {},
   "source": [
    "### Ex 4 - Strings\n",
    "Text string manipulation is used for things like dealing with filenames and paths, reading data from text files, and writing data to text files."
   ]
  },
  {
   "cell_type": "markdown",
   "metadata": {},
   "source": [
    "#### Ex 4a - Adding strings\n",
    "Add the first and last name together with a space between to form the full name."
   ]
  },
  {
   "cell_type": "code",
   "execution_count": null,
   "metadata": {
    "tags": [
     "nosolution"
    ]
   },
   "outputs": [],
   "source": [
    "firstname = \"John\"\n",
    "lastname = \"Doe\"\n",
    "\n",
    "fullname = \" \".join([firstname, lastname])\n",
    "\n",
    "print(fullname)"
   ]
  },
  {
   "cell_type": "markdown",
   "metadata": {},
   "source": [
    "#### Ex 4b - Splitting and formatting strings\n",
    "* Split `fullname` into two new variables `firstname` and `lastname`, make sure to remove any spaces.\n",
    "* Write a string format `template` to match how James Bond likes to introduce himself.\n",
    "\n",
    "When running the cell, the output should be _My name is Bond. James Bond._"
   ]
  },
  {
   "cell_type": "code",
   "execution_count": null,
   "metadata": {
    "tags": [
     "nosolution"
    ]
   },
   "outputs": [],
   "source": [
    "fullname = \"Bond, James\"\n",
    "\n",
    "# Replace these three lines with your implementation\n",
    "firstname = fullname.split(\",\")[1].strip()\n",
    "lastname = fullname.split(\",\")[0].strip()\n",
    "template = \"My name is {ln}. {fn} {ln}.\".format(ln=lastname, fn=firstname)\n",
    "\n",
    "print(template.format(first=firstname, last=lastname))"
   ]
  },
  {
   "cell_type": "markdown",
   "metadata": {},
   "source": [
    "### Ex 5 - Loops\n",
    "Before we move on to more complex data structures, lets try some loops."
   ]
  },
  {
   "cell_type": "markdown",
   "metadata": {},
   "source": [
    "#### Ex 5a - Looping over number ranges\n",
    "\n",
    "Using `range`,\n",
    "\n",
    "* Print the numbers from 0 through 5 (inclusive)\n",
    "* Loop over the numbers from 3 to 10 (not including 10)\n",
    "* Print the even numbers from 4 through 8 (inclusive)\n"
   ]
  },
  {
   "cell_type": "code",
   "execution_count": null,
   "metadata": {
    "tags": [
     "nosolution"
    ]
   },
   "outputs": [],
   "source": [
    "# Implement here\n",
    "for i in range(6):\n",
    "    print(i, end=\",\")\n",
    "print()\n",
    "for i in range(3, 10):\n",
    "    print(i, end=\",\")\n",
    "print()\n",
    "for i in range(4,9,2):\n",
    "    print(i, end=\",\")"
   ]
  },
  {
   "cell_type": "markdown",
   "metadata": {},
   "source": [
    "#### Ex 5b - Double until there's no more grains left\n",
    "If you give away one grain on the first chessboard square, 2 on the second, 4 on the third, and so on by doubling the number of grains for each square, how many squares until you have given away more than a quadrillion ($10^15$) grains?\n",
    "\n",
    "* Use a while loop to find the answer.\n",
    "\n",
    "_Tip: If you get stuck in an infinite loop, it will look like `In [*]` on the side of the cell. If that happens, select the menu \"Kernel -> interrupt\", fix your code, and try again._"
   ]
  },
  {
   "cell_type": "code",
   "execution_count": null,
   "metadata": {
    "tags": [
     "nosolution"
    ]
   },
   "outputs": [],
   "source": [
    "# Implement here\n",
    "gsum = 0\n",
    "i = 0\n",
    "limit = 1e15\n",
    "while gsum < limit:\n",
    "    i += 1\n",
    "    gsum += 2**(i - 1)\n",
    "print(\"We need {} squares to reach {:.1e}\".format(i, limit))"
   ]
  },
  {
   "cell_type": "markdown",
   "metadata": {},
   "source": [
    "### Ex 6 - Lists\n",
    "Lets get familiar with lists, which form the basis of most structured data processing.|"
   ]
  },
  {
   "cell_type": "markdown",
   "metadata": {},
   "source": [
    "#### Ex 6a - Accessing single values from a list\n",
    "Here we define a list with the numbers from 1 up to and including 1000.\n",
    "\n",
    "Print the first, the middle, and the last value from these list.\n",
    "\n",
    "Keep in mind that the first index is `0` and the last is `length of list - 1`."
   ]
  },
  {
   "cell_type": "code",
   "execution_count": null,
   "metadata": {
    "tags": [
     "nosolution"
    ]
   },
   "outputs": [],
   "source": [
    "values = list(range(1, 1001))\n",
    "size = len(values)\n",
    "\n",
    "print(values[0], values[size//2], values[-1])\n"
   ]
  },
  {
   "cell_type": "markdown",
   "metadata": {},
   "source": [
    "#### Ex 6b - Computing something for each value in a list\n",
    "Compute $sin(x)$ for each value $x$ in the `values` list. Print the value and the computed result together for each value."
   ]
  },
  {
   "cell_type": "code",
   "execution_count": null,
   "metadata": {
    "tags": [
     "nosolution"
    ]
   },
   "outputs": [],
   "source": [
    "from math import sin, pi\n",
    "values = [0.0, 0.5*pi, pi, 1.5*pi]\n",
    "\n",
    "for x in values:\n",
    "    print(\"sin({:.2f}) = {:.2f}\".format(x, sin(x)))"
   ]
  },
  {
   "cell_type": "markdown",
   "metadata": {},
   "source": [
    "#### Ex 6c - Lists of lists of lists\n",
    "We have been given some `data` about the sales completed by each member of the sales team.\n",
    "The `data` is a list of lines, where each line is itself a list.\n",
    "Each line contains two items: the `name` of a sales team member, and a list of `sales` made by that person.\n",
    "\n",
    "We want to build a new list from this data.\n",
    "For each salesperson, the new list `summary` should contain a list with name, number of sales, total revenue from all sales made by this person, and a computed bonus that is $20\\%$ of the revenue the exceeds 200.\n",
    "\n",
    "```\n",
    "summary = [\n",
    "    [\"name\", num_sales, total, bonus],\n",
    "]\n",
    "```\n",
    "\n",
    "* To warm up, print the last sale that Ida made by indexing the lists directly. _Hint: `data[1]` is the line for Ida._\n",
    "* Build `summary` from `data`. _Hint: You can loop over the data with_: `for name, sales in data:`.\n",
    "* For each line in the computed stats, print a summary line with the computed information.\n",
    "* Bonus points: find and print who made the largest single sale."
   ]
  },
  {
   "cell_type": "code",
   "execution_count": 3,
   "metadata": {
    "tags": [
     "nosolution"
    ]
   },
   "outputs": [
    {
     "name": "stdout",
     "output_type": "stream",
     "text": [
      "210\n",
      "Seller Mark   sold 4 items for total value of 230, earning bonus   6.00\n",
      "Seller Ida    sold 2 items for total value of 510, earning bonus  62.00\n",
      "Seller Bob    sold 5 items for total value of 430, earning bonus  46.00\n",
      "Seller Heidi  sold 3 items for total value of 320, earning bonus  24.00\n",
      "Seller of the month: Ida\n"
     ]
    }
   ],
   "source": [
    "data = [\n",
    "    [\"Mark\", [100, 20, 50, 60]],\n",
    "    [\"Ida\", [300, 210]],\n",
    "    [\"Bob\", [30, 70, 90, 160, 80]],\n",
    "    [\"Heidi\", [10, 110, 200]],\n",
    "]\n",
    "\n",
    "print(data[1][1][-1])\n",
    "\n",
    "summary = []\n",
    "bonus_limit = 200\n",
    "bonus_rate = 0.2\n",
    "best_sale = 0\n",
    "best_seller = \"\"\n",
    "for name, sales in data:\n",
    "    nsales = len(sales)\n",
    "    ssum = sum(sales)\n",
    "    if max(sales) > best_sale:\n",
    "        best_seller = name\n",
    "        best_sale = max(sales)\n",
    "    bonus = 0 if ssum <= bonus_limit else bonus_rate*(ssum - bonus_limit)\n",
    "    summary.append([name, nsales, ssum, bonus])\n",
    "\n",
    "for name, nsales, ssum, bonus in summary:\n",
    "    print(\"Seller {:6} sold {} items for total value \"\n",
    "          \"of {}, earning bonus {:>6.2f}\".format(name, nsales, ssum, bonus))\n",
    "if best_seller:\n",
    "    print(\"Seller of the month: {}\".format(best_seller))\n",
    "else:\n",
    "    print(\"Fire the sales teeam and hire a new one!\")\n",
    "        "
   ]
  },
  {
   "cell_type": "markdown",
   "metadata": {},
   "source": [
    "### Ex 7 - Dicts\n",
    "Dictionaries hold key,value pairs and allow looking up a value given a key."
   ]
  },
  {
   "cell_type": "markdown",
   "metadata": {},
   "source": [
    "#### Ex 7a - Formatting a string from dict entries\n",
    "Provided the dict `person` here, print a string formatted with the phone number first, followed by the full name in lastname, firstname format."
   ]
  },
  {
   "cell_type": "code",
   "execution_count": 12,
   "metadata": {
    "tags": [
     "nosolution"
    ]
   },
   "outputs": [
    {
     "name": "stdout",
     "output_type": "stream",
     "text": [
      "+47 1234567890: Nordmann, Ola\n"
     ]
    }
   ],
   "source": [
    "person = {\n",
    "    \"firstname\": \"Ola\",\n",
    "    \"lastname\": \"Nordmann\",\n",
    "    \"address\": \"Drammensveien 1\",\n",
    "    \"phone\": \"+47 1234567890\"\n",
    "}\n",
    "\n",
    "# Implement here!\n",
    "print(\"{p}: {l}, {f}\".format(p=person[\"phone\"], l=person[\"lastname\"],\n",
    "                             f=person[\"firstname\"]))\n",
    "    "
   ]
  },
  {
   "cell_type": "markdown",
   "metadata": {},
   "source": [
    "#### Ex 7b - Filter products from nested dicts\n",
    "Here's some information about a phone store. You want to find and display the most expensive phone variant from each model, but unfortunately the data input was somewhat messily done and the model names use different case and sometimes contain spaces that makes it harder to compare the strings.\n",
    "\n",
    "* Clean up the products list by normalizing the `\"model\"` field to be lower case without spaces.\n",
    "* Build a new dict `products_by_model` where the keys are normalized model strings and the values are lists of tuples `(price, variant)`, one for each product with the specific model.\n",
    "* For each model, print the number of products and all product variants sorted by price."
   ]
  },
  {
   "cell_type": "code",
   "execution_count": 52,
   "metadata": {
    "tags": [
     "nosolution"
    ]
   },
   "outputs": [
    {
     "name": "stdout",
     "output_type": "stream",
     "text": [
      "Number of iphone variants: 3\n",
      "    5000: 7\n",
      "    8000: 8\n",
      "   10000: X\n",
      "Number of galaxy variants: 3\n",
      "    4000: S6\n",
      "    5000: S7\n",
      "    6000: S8\n"
     ]
    }
   ],
   "source": [
    "products = [\n",
    "    { \"model\": \"iPhone\", \"variant\": \"8\", \"price\": 8000 },\n",
    "    { \"model\": \"Galaxy\", \"variant\": \"S6\", \"price\": 4000 },\n",
    "    { \"model\": \"GALAXY\", \"variant\": \"S8\", \"price\": 6000 },\n",
    "    { \"model\": \"iphone\", \"variant\": \"X\", \"price\": 10000 },\n",
    "    { \"model\": \" galaxy\", \"variant\": \"S7\", \"price\": 5000 },\n",
    "    { \"model\": \"IPHONE \", \"variant\": \"7\", \"price\": 5000 },\n",
    "]\n",
    "\n",
    "products_by_model = {}\n",
    "for p in products:\n",
    "    model = p[\"model\"].strip().lower()\n",
    "    if model not in products_by_model.keys():\n",
    "        products_by_model[model] = list()\n",
    "    products_by_model[model].append((p[\"price\"], p[\"variant\"]))\n",
    "\n",
    "for p in products_by_model:\n",
    "    new_str = \"Number of {} variants: {}\".format(p, len(products_by_model[p]))\n",
    "    print(new_str)\n",
    "    sorted_products = sorted(products_by_model[p])\n",
    "    for item in sorted_products:\n",
    "        print(\"{:8}: {}\".format(item[0], item[1]))\n",
    "\n",
    "for p in products_by_model:\n",
    "    print(\"Number of {} variants: {}\".format(p, len(products_by_model[p])))\n",
    "    for price, variant in sorted(products_by_model[p]):\n",
    "        print(\"{:8}: {}\".format(price, variant))\n"
   ]
  },
  {
   "cell_type": "markdown",
   "metadata": {},
   "source": [
    "### Ex 8 - Conditional branching with if statements\n"
   ]
  },
  {
   "cell_type": "markdown",
   "metadata": {},
   "source": [
    "#### Ex 8a - Odd or even numbers\n",
    "Write a for loop over the numbers starting at 1 and ending with 10, and print each number labelled as odd or even."
   ]
  },
  {
   "cell_type": "code",
   "execution_count": 8,
   "metadata": {
    "tags": [
     "nosolution"
    ]
   },
   "outputs": [
    {
     "name": "stdout",
     "output_type": "stream",
     "text": [
      "1 is odd\n",
      "2 is even\n",
      "3 is odd\n",
      "4 is even\n",
      "5 is odd\n",
      "6 is even\n",
      "7 is odd\n",
      "8 is even\n",
      "9 is odd\n",
      "10 is even\n",
      "1 is odd\n",
      "2 is even\n",
      "3 is odd\n",
      "4 is even\n",
      "5 is odd\n",
      "6 is even\n",
      "7 is odd\n",
      "8 is even\n",
      "9 is odd\n",
      "10 is even\n"
     ]
    }
   ],
   "source": [
    "# Implement here\n",
    "for i in range(1, 11):\n",
    "    if i % 2:\n",
    "        label = \"odd\"\n",
    "    else:\n",
    "        label = \"even\"\n",
    "    print(\"{} is {}\".format(i, label))\n",
    "\n",
    "for i in range(1, 11):\n",
    "    print(\"{} is {}\".format(i, \"odd\" if i % 2 else \"even\"))"
   ]
  },
  {
   "cell_type": "markdown",
   "metadata": {},
   "source": [
    "#### Ex 8b - Pick your priorities\n",
    "Some tasks are important, some are urgent, some are both, and some are neither.\n",
    "Write a program that prints advice for each task topic on what to do\n",
    "based on whether the task is important and/or urgent."
   ]
  },
  {
   "cell_type": "code",
   "execution_count": 19,
   "metadata": {
    "tags": [
     "nosolution"
    ]
   },
   "outputs": [
    {
     "name": "stdout",
     "output_type": "stream",
     "text": [
      "Pay overdue invoce right now.\n",
      "Remember to allocate time to learn programming.\n",
      "Reply to all emails sounds like stress, do you really need to do it?\n",
      "Sorting pens by color is just stupid!\n"
     ]
    }
   ],
   "source": [
    "tasks = [\n",
    "    { \"topic\": \"pay overdue invoce\",    \"important\": True,  \"urgent\": True },\n",
    "    { \"topic\": \"learn programming\",     \"important\": True,  \"urgent\": False },\n",
    "    { \"topic\": \"reply to all emails\",   \"important\": False, \"urgent\": True },\n",
    "    { \"topic\": \"sorting pens by color\", \"important\": False, \"urgent\": False },\n",
    "]\n",
    "\n",
    "for task in tasks:\n",
    "    if task[\"important\"]:\n",
    "        if task[\"urgent\"]:\n",
    "            msg = \"{} right now.\".format(task[\"topic\"].capitalize())\n",
    "        else:\n",
    "            msg = \"Remember to allocate time to {}.\".format(task[\"topic\"])\n",
    "    else:\n",
    "        if task[\"urgent\"]:\n",
    "            msg = \"{} sounds like stress, do you really need to do it?\".format(task[\"topic\"].capitalize())\n",
    "        else:\n",
    "            msg = \"{} is just stupid!\".format(task[\"topic\"].capitalize())\n",
    "    print(msg)\n",
    "# Implement here!"
   ]
  },
  {
   "cell_type": "markdown",
   "metadata": {},
   "source": [
    "### Ex 9 - Find names of text files on file system\n",
    "\n",
    "* Get a list of all the files in the current directory using `os.listdir`.\n",
    "\n",
    "* Print the full path of each filename.\n",
    "\n",
    "* Split the full path into the directory name, the file extension, and the root of the filename (the root is what's left when removing directory name and file extension).\n",
    "\n",
    "* Join the directory name, filename root, and file extension together to get back the full path.\n",
    "\n",
    "_Hint: `os.path` contains many useful functions. See the documentation on python.org and the tab completion tip below._"
   ]
  },
  {
   "cell_type": "code",
   "execution_count": 6,
   "metadata": {},
   "outputs": [],
   "source": [
    "# Run this to import the os module which is needed for the exercises below\n",
    "import os\n"
   ]
  },
  {
   "cell_type": "code",
   "execution_count": 7,
   "metadata": {},
   "outputs": [],
   "source": [
    "# Tip: Run this cell to see documentation for the function\n",
    "# os.path.splitext in a window at the bottom of the page:\n",
    "os.path.splitext?"
   ]
  },
  {
   "cell_type": "code",
   "execution_count": 8,
   "metadata": {},
   "outputs": [
    {
     "data": {
      "text/plain": [
       "<module 'posixpath' from '/Library/Frameworks/Python.framework/Versions/3.6/lib/python3.6/posixpath.py'>"
      ]
     },
     "execution_count": 8,
     "metadata": {},
     "output_type": "execute_result"
    }
   ],
   "source": [
    "# Tip: Place the text cursor after 'os.path' below, then\n",
    "# type '.' and then 'Tab', to see a list of things available in os.path\n",
    "os.path"
   ]
  },
  {
   "cell_type": "code",
   "execution_count": 30,
   "metadata": {
    "tags": [
     "nosolution"
    ]
   },
   "outputs": [
    {
     "name": "stdout",
     "output_type": "stream",
     "text": [
      "/Users/skavhaug/courses/python/statkraft_intro/notebooks/exercises/.ipynb_checkpoints\n",
      "/Users/skavhaug/courses/python/statkraft_intro/notebooks/exercises/exercises-day1-ola.ipynb\n",
      "/Users/skavhaug/courses/python/statkraft_intro/notebooks/exercises/exercises-day1.ipynb\n",
      "/Users/skavhaug/courses/python/statkraft_intro/notebooks/exercises/README.md\n",
      "/Users/skavhaug/courses/python/statkraft_intro/notebooks/exercises/Untitled.ipynb\n",
      "/Users/skavhaug/courses/python/statkraft_intro/notebooks/exercises/Untitled1.ipynb\n"
     ]
    }
   ],
   "source": [
    "# Implement here\n",
    "for f in os.listdir():\n",
    "    full_path = os.path.abspath(f)\n",
    "    print(full_path)\n",
    "    pname, fn = os.path.split(full_path)\n",
    "    root, ext = os.path.splitext(fn)\n",
    "    full_path_2 = os.path.join(pname, root + ext)\n",
    "    assert full_path_2 == full_path"
   ]
  },
  {
   "cell_type": "markdown",
   "metadata": {},
   "source": [
    "### Ex 10 - A taste of text encoding problems\n",
    "For long winded historical reasons, there is a plethora of standards for how to represent text strings in computers.\n",
    "\n",
    "Strings in python (version 3+) are always _unicode_ strings and can contain most letters from most languages, including fictional ones. You don't have to worry about how these are represented internally.\n",
    "\n",
    "Unfortunately, strings stored as bits and bytes in files on disk can originate from different programs and must be decoded using the same encoding standard they were written with.\n",
    "\n",
    "The `utf-8` encoding can represent the full range of unicode strings.\n",
    "Older standards only included some subset of letters for a specific language.\n",
    "The encodings `cp858` and `cp1252` are common on Norwegian Windows systems.\n",
    "The encoding `cp1253` has Greek letters but not Norwegian ones.\n",
    "\n",
    "* Try decoding the bytestring below using the encoding standards `cp858`, `cp1252`, `utf-8`, and `cp1253` and print the resulting strings. Which is the right one? What happens with the Greek encoding version?\n",
    "\n",
    "_Hint: encode a text string using the notation `mystring.encode(\"utf-8\")` and decode a bytestring using the notation `bytestring.decode(\"utf-8\")`._"
   ]
  },
  {
   "cell_type": "markdown",
   "metadata": {
    "tags": [
     "nosolution"
    ]
   },
   "source": [
    "##### These bytes are the result of encoding a text string with one specific encoding standard\n",
    "\n",
    "# Implement here"
   ]
  },
  {
   "cell_type": "code",
   "execution_count": 37,
   "metadata": {},
   "outputs": [
    {
     "name": "stdout",
     "output_type": "stream",
     "text": [
      "Decoding with cp858 gives ├ÿyvind ├àsen\n",
      "Decoding with cp1252 gives Ã˜yvind Ã…sen\n",
      "Decoding with utf-8 gives Øyvind Åsen\n",
      "utf-8 is probably the one you want!\n",
      "cp1253 is definitely wrong!\n"
     ]
    }
   ],
   "source": [
    "bytestring = b'\\xc3\\x98yvind \\xc3\\x85sen'\n",
    "encodings = [\"cp858\", \"cp1252\", \"utf-8\", \"cp1253\"]\n",
    "for encoding in encodings:\n",
    "    try:  # Advanced construction that we will cover on day two!\n",
    "        decoded = bytestring.decode(encoding)\n",
    "        print(\"Decoding with {} gives {}\".format(encoding, decoded))\n",
    "        if set(\"æøåÆØÅ\").intersection(decoded):\n",
    "            print(\"{} is probably the one you want!\".format(encoding))\n",
    "    except UnicodeDecodeError:\n",
    "        print(\"{} is definitely wrong!\".format(encoding))\n"
   ]
  },
  {
   "cell_type": "markdown",
   "metadata": {},
   "source": [
    "### Ex 11 - More loops\n",
    "Lets try some more exercises where you need to nest loops and branches."
   ]
  },
  {
   "cell_type": "markdown",
   "metadata": {},
   "source": [
    "#### Ex 11a - Counting overtime hours\n",
    "\n",
    "You're running a shop with four employees. Because of poor planning you end up pushing some of your employees to work very hard part of the week. Now you need to compute the number of overtime hours each employee to get the overtime payment correct. Your employees are entitled to overtime payment for all hours above 7.5 any single day.\n",
    "\n",
    "* Print name and total hours worked for each employee.\n",
    "* Compute the number of overtime hours this week for each employee.\n",
    "* Compute the total number of overtime hours for all employees.\n"
   ]
  },
  {
   "cell_type": "code",
   "execution_count": 50,
   "metadata": {
    "tags": [
     "nosolution"
    ]
   },
   "outputs": [
    {
     "name": "stdout",
     "output_type": "stream",
     "text": [
      "Bob\n",
      "===\n",
      "Worked a total of 37.50 hours last week\n",
      "Had 15.00 overtime hours last week\n",
      "\n",
      "Ida\n",
      "===\n",
      "Worked a total of 37.50 hours last week\n",
      "Had  6.50 overtime hours last week\n",
      "\n",
      "Dave\n",
      "====\n",
      "Worked a total of 37.50 hours last week\n",
      "Had  1.50 overtime hours last week\n",
      "\n",
      "Marie\n",
      "=====\n",
      "Worked a total of 37.50 hours last week\n",
      "Had  0.00 overtime hours last week\n",
      "\n",
      "You poor employees worked a total of 23.0 overtime hours last week.\n"
     ]
    }
   ],
   "source": [
    "# This dict maps employee name to number of hours worked each day for a week\n",
    "hours_per_day = {\n",
    "    \"Bob\":   [12.5, 12.5, 12.5, 0.0, 0.0],\n",
    "    \"Ida\":   [10.0, 10.0,  9.0, 4.5, 4.0],\n",
    "    \"Dave\":  [ 8.0,  8.5,  7.5, 7.5, 6.0],\n",
    "    \"Marie\": [ 7.5,  7.5,  7.5, 7.5, 7.5],\n",
    "}\n",
    "\n",
    "normal_hours = 7.5\n",
    "total_overtimes = 0\n",
    "for name, hours in hours_per_day.items():\n",
    "    print(\"{}\\n{}\".format(name, len(name)*\"=\"))\n",
    "    print(\"Worked a total of {:5.2f} hours last week\".format(sum(hours)))\n",
    "    num_overtimes = 0\n",
    "    for h in hours:\n",
    "        num_overtimes += max(0, h - normal_hours)\n",
    "    total_overtimes += num_overtimes\n",
    "    print(\"Had {:5.2f} overtime hours last week\\n\".format(num_overtimes))\n",
    "\n",
    "print(\"You poor employees worked a total of {} overtime hours last week.\".format(total_overtimes))\n",
    "# Implement here"
   ]
  },
  {
   "cell_type": "code",
   "execution_count": null,
   "metadata": {},
   "outputs": [],
   "source": []
  }
 ],
 "metadata": {
  "celltoolbar": null,
  "kernelspec": {
   "display_name": "Python 3",
   "language": "python",
   "name": "python3"
  },
  "language_info": {
   "codemirror_mode": {
    "name": "ipython",
    "version": 3
   },
   "file_extension": ".py",
   "mimetype": "text/x-python",
   "name": "python",
   "nbconvert_exporter": "python",
   "pygments_lexer": "ipython3",
   "version": "3.6.2"
  }
 },
 "nbformat": 4,
 "nbformat_minor": 2
}
