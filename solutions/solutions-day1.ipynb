{
 "cells": [
  {
   "cell_type": "markdown",
   "metadata": {
    "tags": [
     "solution"
    ]
   },
   "source": [
    "# Solutions to exercises"
   ]
  },
  {
   "cell_type": "markdown",
   "metadata": {},
   "source": [
    "### Ex 1 - Getting started with running code in a notebook\n",
    "First lets go through some basic examples to explain editing and running of notebook cells. In the Help menu you can find a list of keyboard shortcuts and a tour of the notebook user interface. You don't need to learn all that now, but do take a look later if you intend to use notebooks a lot."
   ]
  },
  {
   "cell_type": "markdown",
   "metadata": {},
   "source": [
    "#### Ex 1a - Moving between cells and running them\n",
    "\n",
    "* When there's a blue box around a cell you can move up and down with arrow keys. Press `Enter` or click in the textbox to start editing the cell.\n",
    "* When there's a green box around a cell you can edit the text in it. `Enter` inserts a new line, `Shift+Enter` runs the code in the cell.\n",
    "\n",
    "Run the following cell by clicking in it then pressing `Shift+Enter`:"
   ]
  },
  {
   "cell_type": "code",
   "execution_count": null,
   "metadata": {},
   "outputs": [],
   "source": [
    "x = 7 * 6\n",
    "print(x)"
   ]
  },
  {
   "cell_type": "markdown",
   "metadata": {},
   "source": [
    "Try the next one as well, see how the variable x defined in the previous cell is available:"
   ]
  },
  {
   "cell_type": "code",
   "execution_count": null,
   "metadata": {},
   "outputs": [],
   "source": [
    "print(x)"
   ]
  },
  {
   "cell_type": "markdown",
   "metadata": {},
   "source": [
    "Placing a variable alone on the last line displays it. We'll be using `print(x)` instead for the rest of the examples, since that can be used any place in the cell.\n",
    "\n",
    "Try running this cell:"
   ]
  },
  {
   "cell_type": "code",
   "execution_count": null,
   "metadata": {},
   "outputs": [],
   "source": [
    "x = 3 * 1.2\n",
    "x"
   ]
  },
  {
   "cell_type": "markdown",
   "metadata": {},
   "source": [
    "Now go up the the `print(x)` cell above and run it again. Note that the value of variables is determined by the order you execute the cells, not the order of the cells in the notebook document. The execution order is recorded as `In[4]` to the left.\n",
    "\n",
    "To clear all previously defined variables, use the menu `Kernel -> Restart & Clear output`."
   ]
  },
  {
   "cell_type": "markdown",
   "metadata": {},
   "source": [
    "#### Ex 1b - Debugging a faulty program\n",
    "\n",
    "Programs are rarely correct on the first try. Here's an attempt at computing total cost of a number of items.\n",
    "\n",
    "* Try running the next cell. Is the printed total correct?\n",
    "* Fix the code so the total is computed correctly and run again."
   ]
  },
  {
   "cell_type": "code",
   "execution_count": null,
   "metadata": {
    "tags": [
     "setup"
    ]
   },
   "outputs": [],
   "source": [
    "price = 15.0\n",
    "quantity = 3"
   ]
  },
  {
   "cell_type": "code",
   "execution_count": null,
   "metadata": {
    "tags": [
     "solution"
    ]
   },
   "outputs": [],
   "source": [
    "total = price * quantity\n",
    "print(total)"
   ]
  },
  {
   "cell_type": "markdown",
   "metadata": {},
   "source": [
    "### Ex 2 - Variables"
   ]
  },
  {
   "cell_type": "markdown",
   "metadata": {},
   "source": [
    "#### Ex 2a - Counting with integers\n",
    "Lets warm up with some basic integer variables. After each step, use `print` to inspect the variable values. Try to figure out what will be printed _before_ running the cell.\n",
    "\n",
    "* Set a variable `i` to any integer number.\n",
    "* Set another variable `j` to equal `i + 2`.\n",
    "* Add another integer number to `i`. What is the value of `j` now?"
   ]
  },
  {
   "cell_type": "code",
   "execution_count": null,
   "metadata": {
    "tags": [
     "solution"
    ]
   },
   "outputs": [],
   "source": [
    "i = 3\n",
    "print(\"i = {}\".format(i))\n",
    "j = i + 2\n",
    "print(\"i = {}, j = {}\".format(i, j))\n",
    "i += 7\n",
    "print(\"i = {}, j = {}\".format(i, j))"
   ]
  },
  {
   "cell_type": "markdown",
   "metadata": {},
   "source": [
    "#### Ex 2b - Swap two variables\n",
    "Someone has mixed up the first and last name here, add code to swap the values of the two variables."
   ]
  },
  {
   "cell_type": "code",
   "execution_count": null,
   "metadata": {
    "tags": [
     "setup"
    ]
   },
   "outputs": [],
   "source": [
    "first = \"Trump\"\n",
    "last = \"Donald\""
   ]
  },
  {
   "cell_type": "code",
   "execution_count": null,
   "metadata": {
    "tags": [
     "solution"
    ]
   },
   "outputs": [],
   "source": [
    "# Alternative 1:\n",
    "first, last = last, first\n",
    "print(first, last)"
   ]
  },
  {
   "cell_type": "code",
   "execution_count": null,
   "metadata": {
    "tags": [
     "solution"
    ]
   },
   "outputs": [],
   "source": [
    "# Alternative 2:\n",
    "temp = first\n",
    "first = last\n",
    "last = temp\n",
    "print(first, last)"
   ]
  },
  {
   "cell_type": "markdown",
   "metadata": {},
   "source": [
    "### Ex 3 - Calculations with variables"
   ]
  },
  {
   "cell_type": "markdown",
   "metadata": {},
   "source": [
    "#### Ex 3a - Buying fruit\n",
    "Given the price and quantity of apples and pears provided here, compute\n",
    "\n",
    "* The number of fruits.\n",
    "* The average cost of a fruit.\n",
    "* The total cost of this checkout.\n",
    "\n",
    "Store each in its own variable and print it."
   ]
  },
  {
   "cell_type": "code",
   "execution_count": null,
   "metadata": {
    "tags": [
     "setup"
    ]
   },
   "outputs": [],
   "source": [
    "apples = 7\n",
    "apple_price = 1.0\n",
    "\n",
    "pears = 2\n",
    "pear_price = 1.2"
   ]
  },
  {
   "cell_type": "code",
   "execution_count": null,
   "metadata": {
    "tags": [
     "solution"
    ]
   },
   "outputs": [],
   "source": [
    "fruits = apples + pears\n",
    "avg = (apple_price + pear_price)/2\n",
    "total = apples*apple_price + pears*pear_price\n",
    "\n",
    "print(\"number of fruits:\", fruits)\n",
    "print(\"average price:\", avg)\n",
    "print(\"total cost:\", total)"
   ]
  },
  {
   "cell_type": "markdown",
   "metadata": {},
   "source": [
    "#### Ex 3b - Integer division and rounding of numbers\n",
    "As a storage worker, you need to pack some items into crates. Naturally you sit down and write a small python program to figure out how best to do this.\n",
    "\n",
    "* How many crates can be filled completely with the number of items?\n",
    "* Compute the remainder, how many items are left in the last crate?\n",
    "* From the number of filled crates and the remainder, compute how many items you originally had. Does it match the original number of items? If not, you have a bug in your program and need to find and fix it!"
   ]
  },
  {
   "cell_type": "code",
   "execution_count": null,
   "metadata": {
    "tags": [
     "setup"
    ]
   },
   "outputs": [],
   "source": [
    "items = 123\n",
    "crate_size = 20\n",
    "print(\"items: {}, crate size: {}\".format(items, crate_size))"
   ]
  },
  {
   "cell_type": "code",
   "execution_count": null,
   "metadata": {
    "tags": [
     "solution"
    ]
   },
   "outputs": [],
   "source": [
    "filled_crates = items // crate_size\n",
    "remainder = items % crate_size\n",
    "total = filled_crates * crate_size + remainder\n",
    "\n",
    "print(\"filled: {}\".format(filled_crates))\n",
    "print(\"remainder: {}\".format(remainder))\n",
    "print(\"total: {}\".format(total))\n",
    "print(\"total equals items: {}\".format(total == items))"
   ]
  },
  {
   "cell_type": "markdown",
   "metadata": {},
   "source": [
    "#### Ex 3c - Investigating the behaviour of floating point numbers\n",
    "Lets try a simple calculation with floating point numbers:\n",
    "\n",
    "* Set a variable to 0.7 (pick your own variable name)\n",
    "* Add 0.1 to the variable\n",
    "* Print the variable"
   ]
  },
  {
   "cell_type": "code",
   "execution_count": null,
   "metadata": {
    "tags": [
     "solution"
    ]
   },
   "outputs": [],
   "source": [
    "result = 0.7\n",
    "result += 0.1\n",
    "print(result)"
   ]
  },
  {
   "cell_type": "markdown",
   "metadata": {},
   "source": [
    "Are you surprised by the result? Floating point numbers have high precision but are not exact.\n",
    "\n",
    "* Print the difference between `result` and `0.8` to see approximately how precise these numbers are."
   ]
  },
  {
   "cell_type": "code",
   "execution_count": null,
   "metadata": {
    "tags": [
     "solution"
    ]
   },
   "outputs": [],
   "source": [
    "result = 0.7 + 0.1\n",
    "print(0.8 - result)"
   ]
  },
  {
   "cell_type": "markdown",
   "metadata": {},
   "source": [
    "The difference you just printed should be on a format like `1.23e-9` which means $1.23 \\times 10^{-9}$. The exponent of the number you printed is approximately the number of accurate digits in a float.\n",
    "\n",
    "The next cell prints the number 0.7 with only 3 decimals, which gets rounded to 0.700 in the string formatting.\n",
    "\n",
    "* To avoid the rounding, change the number of decimals from 3 to a number larger than the number of accurate digits you found above."
   ]
  },
  {
   "cell_type": "code",
   "execution_count": null,
   "metadata": {
    "tags": [
     "solution"
    ]
   },
   "outputs": [],
   "source": [
    "print(\"{:.17f}\".format(0.7))"
   ]
  },
  {
   "cell_type": "markdown",
   "metadata": {},
   "source": [
    "### Ex 4 - Strings\n",
    "Text string manipulation is used for things like dealing with filenames and paths, reading data from text files, and writing data to text files."
   ]
  },
  {
   "cell_type": "markdown",
   "metadata": {},
   "source": [
    "#### Ex 4a - Adding strings\n",
    "Add the first and last name together with a space between to form the full name."
   ]
  },
  {
   "cell_type": "code",
   "execution_count": null,
   "metadata": {
    "tags": [
     "setup"
    ]
   },
   "outputs": [],
   "source": [
    "firstname = \"John\"\n",
    "lastname = \"Doe\""
   ]
  },
  {
   "cell_type": "code",
   "execution_count": null,
   "metadata": {
    "tags": [
     "solution"
    ]
   },
   "outputs": [],
   "source": [
    "fullname = firstname + \" \" + lastname\n",
    "\n",
    "print(\"My name is \" + fullname)"
   ]
  },
  {
   "cell_type": "markdown",
   "metadata": {},
   "source": [
    "#### Ex 4b - Splitting and formatting strings\n",
    "* Split `fullname` into two new variables `firstname` and `lastname`, make sure to remove any spaces.\n",
    "* Write a string format `template` to match how James Bond likes to introduce himself.\n",
    "\n",
    "When running the cell, the output should be _My name is Bond. James Bond._"
   ]
  },
  {
   "cell_type": "code",
   "execution_count": null,
   "metadata": {
    "tags": [
     "setup"
    ]
   },
   "outputs": [],
   "source": [
    "fullname = \"Bond, James\""
   ]
  },
  {
   "cell_type": "code",
   "execution_count": null,
   "metadata": {
    "tags": [
     "solution"
    ]
   },
   "outputs": [],
   "source": [
    "lastname, firstname = fullname.split(\",\")\n",
    "firstname = firstname.strip()\n",
    "lastname = lastname.strip()\n",
    "\n",
    "template = \"My name is {last}. {first} {last}.\"\n",
    "\n",
    "print(template.format(first=firstname, last=lastname))"
   ]
  },
  {
   "cell_type": "markdown",
   "metadata": {},
   "source": [
    "### Ex 5 - Loops\n",
    "Before we move on to more complex data structures, lets try some loops."
   ]
  },
  {
   "cell_type": "markdown",
   "metadata": {},
   "source": [
    "#### Ex 5a - Looping over number ranges\n",
    "\n",
    "Using `range`,\n",
    "\n",
    "* Print the numbers from 0 through 5 (inclusive)\n",
    "* Loop over the numbers from 3 to 10 (not including 10)\n",
    "* Print the even numbers from 4 through 8 (inclusive)\n"
   ]
  },
  {
   "cell_type": "code",
   "execution_count": null,
   "metadata": {
    "tags": [
     "solution"
    ]
   },
   "outputs": [],
   "source": [
    "for i in range(6):\n",
    "    print(i, end=\", \")\n",
    "print()\n",
    "\n",
    "for i in range(1, 10):\n",
    "    print(i, end=\", \")\n",
    "print()\n",
    "\n",
    "for i in range(4, 9, 2):\n",
    "    print(i, end=\", \")\n",
    "print()"
   ]
  },
  {
   "cell_type": "markdown",
   "metadata": {},
   "source": [
    "#### Ex 5b - Double until there's no more grains left\n",
    "If you give away one grain on the first chessboard square, 2 on the second, 4 on the third, and so on by doubling the number of grains for each square, how many squares until you have given away more than a quadrillion ($10^15$) grains?\n",
    "\n",
    "* Use a while loop to find the answer.\n",
    "\n",
    "_Tip: If you get stuck in an infinite loop, it will look like `In [*]` on the side of the cell. If that happens, select the menu \"Kernel -> interrupt\", fix your code, and try again._"
   ]
  },
  {
   "cell_type": "code",
   "execution_count": null,
   "metadata": {
    "tags": [
     "solution"
    ]
   },
   "outputs": [],
   "source": [
    "grains_next_square = 1\n",
    "grains = 0\n",
    "squares = 0\n",
    "\n",
    "while grains < 10**15:\n",
    "    grains += grains_next_square\n",
    "    squares += 1\n",
    "    grains_next_square *= 2\n",
    "\n",
    "print(squares, grains, grains_next_square)"
   ]
  },
  {
   "cell_type": "markdown",
   "metadata": {},
   "source": [
    "### Ex 6 - Lists\n",
    "Lets get familiar with lists, which form the basis of most structured data processing."
   ]
  },
  {
   "cell_type": "markdown",
   "metadata": {},
   "source": [
    "#### Ex 6a - Accessing single values from a list\n",
    "Here we define a list with the numbers from 1 up to and including 1000.\n",
    "\n",
    "Print the first, the middle, and the last value from these list.\n",
    "\n",
    "Keep in mind that the first index is `0` and the last is `length of list - 1`."
   ]
  },
  {
   "cell_type": "code",
   "execution_count": null,
   "metadata": {
    "tags": [
     "setup"
    ]
   },
   "outputs": [],
   "source": [
    "values = list(range(1, 1001))\n",
    "size = len(values)"
   ]
  },
  {
   "cell_type": "code",
   "execution_count": null,
   "metadata": {
    "tags": [
     "solution"
    ]
   },
   "outputs": [],
   "source": [
    "# Indexing starts at 0\n",
    "first = values[0]\n",
    "\n",
    "# Must use integer division operator //\n",
    "middle = values[size // 2]\n",
    "\n",
    "# Last index is one less than the size\n",
    "last = values[size - 1]\n",
    "\n",
    "# Alternative short notation for indexing from the end\n",
    "last2 = values[-1]\n",
    "\n",
    "print(\"first: {}  middle: {}  last: {}  (last2: {})\".format(first, middle, last, last2))"
   ]
  },
  {
   "cell_type": "markdown",
   "metadata": {},
   "source": [
    "#### Ex 6b - Computing something for each value in a list\n",
    "Compute $sin(x)$ for each value $x$ in the `values` list. Print the value and the computed result together for each value."
   ]
  },
  {
   "cell_type": "code",
   "execution_count": null,
   "metadata": {
    "tags": [
     "setup"
    ]
   },
   "outputs": [],
   "source": [
    "from math import sin, pi\n",
    "values = [0.0, 0.5*pi, pi, 1.5*pi]"
   ]
  },
  {
   "cell_type": "code",
   "execution_count": null,
   "metadata": {
    "tags": [
     "solution"
    ]
   },
   "outputs": [],
   "source": [
    "# V1: Elaborate version, this approach scales poorly as the list grows!\n",
    "print(\"sin({:.2f}) = {:.2f}\".format(values[0], sin(values[0])))\n",
    "print(\"sin({:.2f}) = {:.2f}\".format(values[1], sin(values[1])))\n",
    "print(\"sin({:.2f}) = {:.2f}\".format(values[2], sin(values[2])))"
   ]
  },
  {
   "cell_type": "code",
   "execution_count": null,
   "metadata": {
    "tags": [
     "solution"
    ]
   },
   "outputs": [],
   "source": [
    "# V2: Loop over indices\n",
    "for i in range(len(values)):\n",
    "    print(\"sin({:.2f}) = {:.2f}\".format(values[i], sin(values[i])))"
   ]
  },
  {
   "cell_type": "code",
   "execution_count": null,
   "metadata": {
    "tags": [
     "solution"
    ]
   },
   "outputs": [],
   "source": [
    "# V3: Loop over values directly\n",
    "for x in values:\n",
    "    print(\"sin({:.2f}) = {:.2f}\".format(x, sin(x)))"
   ]
  },
  {
   "cell_type": "markdown",
   "metadata": {},
   "source": [
    "#### Ex 6c - Lists of lists of lists\n",
    "We have been given some `data` about the sales completed by each member of the sales team.\n",
    "The `data` is a list of lines, where each line is itself a list.\n",
    "Each line contains two items: the `name` of a sales team member, and a list of `sales` made by that person.\n",
    "\n",
    "We want to build a new list from this data.\n",
    "For each salesperson, the new list `summary` should contain a list with name, number of sales, total revenue from all sales made by this person, and a computed bonus that is $20\\%$ of the revenue the exceeds 200.\n",
    "\n",
    "```\n",
    "summary = [\n",
    "    [\"name\", num_sales, total, bonus],\n",
    "]\n",
    "```\n",
    "\n",
    "* To warm up, print the last sale that Ida made by indexing the lists directly. _Hint: `data[1]` is the line for Ida._\n",
    "* Build `summary` from `data`. _Hint: You can loop over the data with_: `for name, sales in data:`.\n",
    "* For each line in the computed stats, print a summary line with the computed information.\n",
    "* Bonus points: find and print who made the largest single sale."
   ]
  },
  {
   "cell_type": "code",
   "execution_count": null,
   "metadata": {
    "tags": [
     "setup"
    ]
   },
   "outputs": [],
   "source": [
    "data = [\n",
    "    [\"Mark\", [100, 20, 50, 60]],\n",
    "    [\"Ida\", [300, 210]],\n",
    "    [\"Bob\", [30, 70, 90, 160, 80]],\n",
    "    [\"Heidi\", [10, 110, 200]],\n",
    "]"
   ]
  },
  {
   "cell_type": "code",
   "execution_count": null,
   "metadata": {
    "tags": [
     "solution"
    ]
   },
   "outputs": [],
   "source": [
    "# The last sale by Ida using direct indices\n",
    "print(data[1][1][-1])\n",
    "\n",
    "# Build summary list\n",
    "summary = []\n",
    "for name, sales in data:\n",
    "    total = sum(sales)\n",
    "    bonus = 0.2 * (total - 200)\n",
    "    newline = [name, len(sales), total, bonus]\n",
    "    summary.append(newline)\n",
    "\n",
    "# Print summary\n",
    "template = \"{:8s} had {} sales for a total revenue of {}, resulting in a bonus of {}\"\n",
    "for line in summary:\n",
    "    print(template.format(*line))\n",
    "\n",
    "# Find who made the largest sale\n",
    "winner = \"Noone\"\n",
    "largest = 0\n",
    "for name, sales in data:\n",
    "    if max(sales) > largest:\n",
    "        winner = name\n",
    "        largest = max(sales)\n",
    "print(\"The largest sale ({}) was made by {}!\".format(largest, winner))"
   ]
  },
  {
   "cell_type": "markdown",
   "metadata": {},
   "source": [
    "### Ex 7 - Dicts\n",
    "Dictionaries hold key,value pairs and allow looking up a value given a key."
   ]
  },
  {
   "cell_type": "markdown",
   "metadata": {},
   "source": [
    "#### Ex 7a - Formatting a string from dict entries\n",
    "Provided the dict `person` here, print a string formatted with the phone number first, followed by the full name in lastname, firstname format."
   ]
  },
  {
   "cell_type": "code",
   "execution_count": null,
   "metadata": {
    "tags": [
     "setup"
    ]
   },
   "outputs": [],
   "source": [
    "person = {\n",
    "    \"firstname\": \"Ola\",\n",
    "    \"lastname\": \"Nordmann\",\n",
    "    \"address\": \"Drammensveien 1\",\n",
    "    \"phone\": \"+47 1234567890\"\n",
    "}"
   ]
  },
  {
   "cell_type": "code",
   "execution_count": null,
   "metadata": {
    "tags": [
     "solution"
    ]
   },
   "outputs": [],
   "source": [
    "# String formatting template\n",
    "template = \"{phone}  {lastname}, {firstname}\"\n",
    "\n",
    "# Elaborate version:\n",
    "print(template.format(\n",
    "    firstname=person[\"firstname\"],\n",
    "    lastname=person[\"lastname\"],\n",
    "    phone=person[\"phone\"],\n",
    "))\n",
    "\n",
    "# Short version using ** notation:\n",
    "print(template.format(**person))"
   ]
  },
  {
   "cell_type": "markdown",
   "metadata": {},
   "source": [
    "#### Ex 7b - Filter products from nested dicts\n",
    "Here's some information about a phone store. You want to find and display the most expensive phone variant from each model, but unfortunately the data input was somewhat messily done and the model names use different case and sometimes contain spaces that makes it harder to compare the strings.\n",
    "\n",
    "* Clean up the products list by normalizing the `\"model\"` field to be lower case without spaces.\n",
    "* Build a new dict `products_by_model` where the keys are normalized model strings and the values are lists of tuples `(price, variant)`, one for each product with the specific model.\n",
    "* For each model, print the number of products and all product variants sorted by price."
   ]
  },
  {
   "cell_type": "code",
   "execution_count": null,
   "metadata": {
    "tags": [
     "setup"
    ]
   },
   "outputs": [],
   "source": [
    "products = [\n",
    "    { \"model\": \"iPhone\", \"variant\": \"8\", \"price\": 8000 },\n",
    "    { \"model\": \"Galaxy\", \"variant\": \"S6\", \"price\": 4000 },\n",
    "    { \"model\": \"GALAXY\", \"variant\": \"S8\", \"price\": 6000 },\n",
    "    { \"model\": \"iphone\", \"variant\": \"X\", \"price\": 10000 },\n",
    "    { \"model\": \" galaxy\", \"variant\": \"S7\", \"price\": 5000 },\n",
    "    { \"model\": \"IPHONE \", \"variant\": \"7\", \"price\": 5000 },\n",
    "]"
   ]
  },
  {
   "cell_type": "code",
   "execution_count": null,
   "metadata": {
    "tags": [
     "solution"
    ]
   },
   "outputs": [],
   "source": [
    "# Clean up model field (note that this modifies the dicts inside the products list)\n",
    "for product in products:\n",
    "    model = product[\"model\"]\n",
    "    model = model.lower()\n",
    "    model = model.strip()\n",
    "    product[\"model\"] = model\n",
    "\n",
    "# You can do this on one line as well:\n",
    "# for product in products:\n",
    "#     product[\"model\"] = product[\"model\"].lower().strip()\n",
    "\n",
    "\n",
    "# Group product variants by model\n",
    "products_by_model = {}\n",
    "for product in products:\n",
    "    model = product[\"model\"]\n",
    "    if model not in products_by_model:\n",
    "        products_by_model[model] = []\n",
    "    pair = (product[\"price\"], product[\"variant\"])\n",
    "    products_by_model[model].append(pair)\n",
    "\n",
    "# Print variants\n",
    "for model in products_by_model:\n",
    "    subproducts = sorted(products_by_model[model])\n",
    "    print(\"\\nModel {} variants: {}\".format(model, len(subproducts)))\n",
    "    for price, variant in subproducts:\n",
    "        template = \"{model} {variant}: {price}\"\n",
    "        print(template.format(model=model, variant=variant, price=price))"
   ]
  },
  {
   "cell_type": "markdown",
   "metadata": {},
   "source": [
    "### Ex 8 - Conditional branching with if statements\n"
   ]
  },
  {
   "cell_type": "markdown",
   "metadata": {},
   "source": [
    "#### Ex 8a - Odd or even numbers\n",
    "Write a for loop over the numbers starting at 1 and ending with 10, and print each number labelled as odd or even."
   ]
  },
  {
   "cell_type": "code",
   "execution_count": null,
   "metadata": {
    "tags": [
     "solution"
    ]
   },
   "outputs": [],
   "source": [
    "for value in range(1, 11):\n",
    "    if value % 2 == 0:\n",
    "        label = \"even\"\n",
    "    else:\n",
    "        label = \"odd\"\n",
    "    print(value, \"is\", label)"
   ]
  },
  {
   "cell_type": "markdown",
   "metadata": {},
   "source": [
    "#### Ex 8b - Pick your priorities\n",
    "Some tasks are important, some are urgent, some are both, and some are neither.\n",
    "Write a program that prints advice for each task topic on what to do\n",
    "based on whether the task is important and/or urgent."
   ]
  },
  {
   "cell_type": "code",
   "execution_count": null,
   "metadata": {
    "tags": [
     "setup"
    ]
   },
   "outputs": [],
   "source": [
    "tasks = [\n",
    "    { \"topic\": \"pay overdue invoce\",    \"important\": True,  \"urgent\": True },\n",
    "    { \"topic\": \"learn programming\",     \"important\": True,  \"urgent\": False },\n",
    "    { \"topic\": \"reply to all emails\",   \"important\": False, \"urgent\": True },\n",
    "    { \"topic\": \"sorting pens by color\", \"important\": False, \"urgent\": False },\n",
    "]"
   ]
  },
  {
   "cell_type": "code",
   "execution_count": null,
   "metadata": {
    "tags": [
     "solution"
    ]
   },
   "outputs": [],
   "source": [
    "for task in tasks:\n",
    "    if task[\"important\"] and task[\"urgent\"]:\n",
    "        comment = \"definitely do this right now!\"\n",
    "    elif task[\"important\"]:\n",
    "        comment = \"you should think long term and make time for this.\"\n",
    "    elif task[\"urgent\"]:\n",
    "        comment = \"sounds like busywork, are you sure it's necessary?\"\n",
    "    else:\n",
    "        comment = \"I guess you could drop this\"\n",
    "    print(\"{:21s}  -  {}\".format(task[\"topic\"], comment))"
   ]
  },
  {
   "cell_type": "markdown",
   "metadata": {},
   "source": [
    "### Ex 9 - Find names of text files on file system\n",
    "\n",
    "* Get a list of all the files in the current directory using `os.listdir`.\n",
    "\n",
    "* Print the full path of each filename.\n",
    "\n",
    "* Split the full path into the directory name, the file extension, and the root of the filename (the root is what's left when removing directory name and file extension).\n",
    "\n",
    "* Join the directory name, filename root, and file extension together to get back the full path.\n",
    "\n",
    "_Hint: `os.path` contains many useful functions. See the documentation on python.org and the tab completion tip below._"
   ]
  },
  {
   "cell_type": "code",
   "execution_count": null,
   "metadata": {},
   "outputs": [],
   "source": [
    "# Run this to import the os module which is needed for the exercises below\n",
    "import os"
   ]
  },
  {
   "cell_type": "code",
   "execution_count": null,
   "metadata": {},
   "outputs": [],
   "source": [
    "# Tip: Run this cell to see documentation for the function\n",
    "# os.path.splitext in a window at the bottom of the page:\n",
    "os.path.splitext?"
   ]
  },
  {
   "cell_type": "code",
   "execution_count": null,
   "metadata": {},
   "outputs": [],
   "source": [
    "# Tip: Place the text cursor after 'os.path' below, then\n",
    "# type '.' and then 'Tab', to see a list of things available in os.path\n",
    "os.path"
   ]
  },
  {
   "cell_type": "code",
   "execution_count": null,
   "metadata": {
    "tags": [
     "solution"
    ]
   },
   "outputs": [],
   "source": [
    "import os\n",
    "import glob\n",
    "\n",
    "# Find jupyter notebook files\n",
    "# filenames = glob.glob(\"*.ipynb\")\n",
    "\n",
    "# Find all files in directory\n",
    "filenames = os.listdir(\".\")\n",
    "\n",
    "for filename in filenames:\n",
    "    fullpath = os.path.abspath(filename)\n",
    "    basename = os.path.basename(fullpath)\n",
    "    dirname = os.path.dirname(fullpath)\n",
    "    root, ext = os.path.splitext(basename)\n",
    "\n",
    "    print()\n",
    "    print(\"full path:     \", fullpath)\n",
    "    print(\"directory:     \", dirname)\n",
    "    print(\"root filename: \", root)\n",
    "    print(\"file extension:\", ext)\n",
    "    print(fullpath == os.path.join(dirname, root + ext))"
   ]
  },
  {
   "cell_type": "markdown",
   "metadata": {},
   "source": [
    "### Ex 10 - A taste of text encoding problems\n",
    "For long winded historical reasons, there is a plethora of standards for how to represent text strings in computers.\n",
    "\n",
    "Strings in python (version 3+) are always _unicode_ strings and can contain most letters from most languages, including fictional ones. You don't have to worry about how these are represented internally.\n",
    "\n",
    "Unfortunately, strings stored as bits and bytes in files on disk can originate from different programs and must be decoded using the same encoding standard they were written with.\n",
    "\n",
    "The `utf-8` encoding can represent the full range of unicode strings.\n",
    "Older standards only included some subset of letters for a specific language.\n",
    "The encodings `cp858` and `cp1252` are common on Norwegian Windows systems.\n",
    "The encoding `cp1253` has Greek letters but not Norwegian ones.\n",
    "\n",
    "* Try decoding the bytestring below using the encoding standards `cp858`, `cp1252`, `utf-8`, and `cp1253` and print the resulting strings. Which is the right one? What happens with the Greek encoding version?\n",
    "\n",
    "_Hint: encode a text string using the notation `mystring.encode(\"utf-8\")` and decode a bytestring using the notation `bytestring.decode(\"utf-8\")`._"
   ]
  },
  {
   "cell_type": "code",
   "execution_count": null,
   "metadata": {
    "tags": [
     "setup"
    ]
   },
   "outputs": [],
   "source": [
    "# These bytes are the result of encoding a text string with one specific encoding standard\n",
    "bytestring = b'\\xc3\\x98yvind \\xc3\\x85sen'"
   ]
  },
  {
   "cell_type": "code",
   "execution_count": null,
   "metadata": {
    "tags": [
     "solution"
    ]
   },
   "outputs": [],
   "source": [
    "# Mangled letters\n",
    "print(bytestring.decode(\"cp1252\"))\n",
    "print(bytestring.decode(\"cp858\"))\n",
    "\n",
    "# Correct result\n",
    "print(bytestring.decode(\"utf-8\"))\n",
    "\n",
    "# This greek codemap will fail to decode\n",
    "print(bytestring.decode(\"cp1253\"))"
   ]
  },
  {
   "cell_type": "markdown",
   "metadata": {},
   "source": [
    "### Ex 11 - Counting overtime hours\n",
    "Lets try some more exercises where you need to nest loops and branches.\n",
    "\n",
    "You're running a shop with four employees. Because of poor planning you end up pushing some of your employees to work very hard part of the week. Now you need to compute the number of overtime hours each employee to get the overtime payment correct. Your employees are entitled to overtime payment for all hours above 7.5 any single day.\n",
    "\n",
    "* Print name and total hours worked for each employee.\n",
    "* Compute the number of overtime hours this week for each employee.\n",
    "* Compute the total number of overtime hours for all employees.\n"
   ]
  },
  {
   "cell_type": "code",
   "execution_count": null,
   "metadata": {
    "tags": [
     "setup"
    ]
   },
   "outputs": [],
   "source": [
    "# This dict maps employee name to number of hours worked each day for a week\n",
    "hours_per_day = {\n",
    "    \"Bob\":   [12.5, 12.5, 12.5, 0.0, 0.0],\n",
    "    \"Ida\":   [10.0, 10.0,  9.0, 4.5, 4.0],\n",
    "    \"Dave\":  [ 8.0,  8.5,  7.5, 7.5, 6.0],\n",
    "    \"Marie\": [ 7.5,  7.5,  7.5, 7.5, 7.5],\n",
    "}"
   ]
  },
  {
   "cell_type": "code",
   "execution_count": null,
   "metadata": {
    "tags": [
     "solution"
    ]
   },
   "outputs": [],
   "source": [
    "threshold = 7.5\n",
    "\n",
    "print(\"Total hours worked:\")\n",
    "for name, hours in hours_per_day.items():\n",
    "    print(\"{:10s}  {:.1f}\".format(name, sum(hours)))\n",
    "\n",
    "print(\"Overtime hours worked:\")\n",
    "total_overtime = 0\n",
    "for name, hours in hours_per_day.items():\n",
    "    overtime = 0\n",
    "    for h in hours:\n",
    "        if h > threshold:\n",
    "            overtime += h - threshold\n",
    "    print(\"{:10s}  {:.1f}\".format(name, overtime))\n",
    "    total_overtime += overtime\n",
    "print(\"Total overtime hours all employees:\", total_overtime)"
   ]
  },
  {
   "cell_type": "markdown",
   "metadata": {},
   "source": [
    "### Ex 12 - Analysing tweets by Donald Trump\n",
    "Here's a collection of tweets by the president of the United States of America.\n",
    "We'll try to find twitter style @mentions, print tweets mentioning certain words,\n",
    "and find the most common words."
   ]
  },
  {
   "cell_type": "code",
   "execution_count": null,
   "metadata": {
    "tags": [
     "setup"
    ]
   },
   "outputs": [],
   "source": [
    "tweets = \"\"\"\n",
    "Healthy young child goes to doctor, gets pumped with massive shot of many vaccines, doesn’t feel good and changes – AUTISM. Many such cases!\n",
    ".@ariannahuff is unattractive both inside and out. I fully understand why her former husband left her for a man- he made a good decision.\n",
    "The hatchet job in @NYMag about Roger Ailes is total bullshit. He is the ultimate winner who is surrounded by a great team. @FoxNews\n",
    "Sorry losers and haters, but my I.Q. is one of the highest -and you all know it! Please don’t feel so stupid or insecure,it’s not your fault\n",
    "Windmills are the greatest threat in the US to both bald and golden eagles. Media claims fictional ‘global warming’ is worse.\n",
    "Let’s take a closer look at that birth certificate. @BarackObama was described in 2003 as being ‘born in Kenya.’ bit.ly/Klc9Uu\n",
    "We should have gotten more of the oil in Syria, and we should have gotten more of the oil in Iraq. Dumb leaders.\n",
    "Russian leaders are publicly celebrating Obama’s reelection. They can’t wait to see how flexible Obama will be now.\n",
    "The Miss Universe Pageant will be broadcast live from MOSCOW, RUSSIA on November 9th. A big deal that will bring our countries together!\n",
    "If the morons who killed all of those people at Charlie Hedbo would have just waited, the magazine would have folded – no money, no success!\n",
    "Every time I speak of the haters and losers I do so with great love and affection. They cannot help the fact that they were born fucked up!\n",
    "\"\"\""
   ]
  },
  {
   "cell_type": "markdown",
   "metadata": {},
   "source": [
    "#### Ex 12a - Split lines\n",
    "\n",
    "* Each line in the multiline string `tweets` is one tweet. Convert it into a list of single line tweets, and print the number of tweets in the list (should be 11).\n",
    "* For each tweet, print its length and an estimate of how many words it has.\n",
    "* Print the tweet mentioning @BarackObama."
   ]
  },
  {
   "cell_type": "code",
   "execution_count": null,
   "metadata": {
    "tags": [
     "solution"
    ]
   },
   "outputs": [],
   "source": [
    "# Split multiline string into list of lines\n",
    "# without empty lines at the ends\n",
    "tweet_list = tweets.strip().split(\"\\n\")\n",
    "print(len(tweet_list))"
   ]
  },
  {
   "cell_type": "code",
   "execution_count": null,
   "metadata": {
    "tags": [
     "solution"
    ]
   },
   "outputs": [],
   "source": [
    "# Print length of tweets, number of words, and average word length\n",
    "for tweet in tweet_list:\n",
    "    words = tweet.split(\" \")\n",
    "    print(\"{}  {}  {:.1f}\".format(len(tweet), len(words), len(tweet) / len(words)))"
   ]
  },
  {
   "cell_type": "code",
   "execution_count": null,
   "metadata": {
    "tags": [
     "solution"
    ]
   },
   "outputs": [],
   "source": [
    "# Print the tweet mentioning Obama's twitter handle\n",
    "for tweet in tweet_list:\n",
    "    if \"@BarackObama\" in tweet:\n",
    "        print(tweet)"
   ]
  },
  {
   "cell_type": "markdown",
   "metadata": {},
   "source": [
    "#### Ex 12b - Data cleaning\n",
    "\n",
    "As is often the case, the data set here is a bit messy and needs some tidying.\n",
    "For example we don't want to count \"The\" and \"the,\" as different words.\n",
    "Let's normalize the data to simplify further analysis:\n",
    "\n",
    "* For each single tweet, build a list of words, in lower case and with punctuation removed.\n",
    "  Make sure to split words where there's no space after comma.\n",
    "* To test your data normalization, print the tweets where the normalized word list\n",
    "  contains \"windmills\", \"syria\", or \"insecure\". There should be one of each.\n",
    "  (This can also be solved without building the word list first. How?)"
   ]
  },
  {
   "cell_type": "code",
   "execution_count": null,
   "metadata": {
    "tags": [
     "setup"
    ]
   },
   "outputs": [],
   "source": [
    "punctuation = \".,:;!'’‘-–\""
   ]
  },
  {
   "cell_type": "code",
   "execution_count": null,
   "metadata": {
    "tags": [
     "solution"
    ]
   },
   "outputs": [],
   "source": [
    "# Build a list of words for each tweet\n",
    "tweet_words = {}  # This will be on the form { tweet: wordlist }\n",
    "for tweet in tweet_list:\n",
    "    # Replace commas with spaces and split into list of words\n",
    "    original_words = tweet.replace(\",\", \" \").split(\" \")\n",
    "\n",
    "    # Build normalized wordlist\n",
    "    normalized_words = []\n",
    "    for word in original_words:\n",
    "        # Normalize single word\n",
    "        word = word.strip(punctuation)\n",
    "        word = word.lower()\n",
    "\n",
    "        # Skip the empty string\n",
    "        if word:\n",
    "            normalized_words.append(word)\n",
    "\n",
    "    # Collect resulting normalized word list paired with its tweet\n",
    "    tweet_words[tweet] = normalized_words\n",
    "\n",
    "# Print wordlists together with tweets to inspect result\n",
    "for tweet, words in tweet_words.items():\n",
    "    print()\n",
    "    print(tweet)\n",
    "    print(\" \".join(words))"
   ]
  },
  {
   "cell_type": "code",
   "execution_count": null,
   "metadata": {
    "tags": [
     "solution"
    ]
   },
   "outputs": [],
   "source": [
    "# Print tweets containing selected words in normalized form\n",
    "for tweet, words in tweet_words.items():\n",
    "    for looking_for in [\"syria\", \"windmills\", \"insecure\"]:\n",
    "        if looking_for in words:\n",
    "            print(tweet)\n",
    "            print()"
   ]
  },
  {
   "cell_type": "markdown",
   "metadata": {},
   "source": [
    "#### Ex 12c - Count and analyse\n",
    "\n",
    "Now try to answer these questions using the normalized word lists:\n",
    "\n",
    "* Who have been mentioned with @username in all the tweets combined?\n",
    "* How many unique words are there across the tweets?\n",
    "* What are the most popular 10 words across all the tweets?"
   ]
  },
  {
   "cell_type": "code",
   "execution_count": null,
   "metadata": {
    "tags": [
     "solution"
    ]
   },
   "outputs": [],
   "source": [
    "# Chain all word lists into one flat\n",
    "allwords = []\n",
    "for words in tweet_words.values():\n",
    "    allwords.extend(words)"
   ]
  },
  {
   "cell_type": "code",
   "execution_count": null,
   "metadata": {
    "tags": [
     "solution"
    ]
   },
   "outputs": [],
   "source": [
    "# Build set of mentions, words starting with @\n",
    "mentions = set()\n",
    "for word in allwords:\n",
    "    if word.startswith(\"@\"):\n",
    "        mentions.add(word)\n",
    "print(\"mentions: \", \" \".join(sorted(mentions)))"
   ]
  },
  {
   "cell_type": "code",
   "execution_count": null,
   "metadata": {
    "tags": [
     "solution"
    ]
   },
   "outputs": [],
   "source": [
    "# Count words\n",
    "wordcount = {}\n",
    "for word in allwords:\n",
    "    if word not in wordcount:\n",
    "        wordcount[word] = 1\n",
    "    else:\n",
    "        wordcount[word] += 1\n",
    "\n",
    "# Alternative:\n",
    "# from collections import Counter\n",
    "# wordcount = Counter(allwords)\n",
    "\n",
    "print(\"unique: \", len(wordcount))\n",
    "print(\"total:  \", sum(wordcount.values()))"
   ]
  },
  {
   "cell_type": "code",
   "execution_count": null,
   "metadata": {
    "tags": [
     "solution"
    ]
   },
   "outputs": [],
   "source": [
    "# Make a list of tuples where the count is first\n",
    "counts = []\n",
    "for word, count in wordcount.items():\n",
    "    counts.append((count, word))\n",
    "\n",
    "# Sort the list: sorts by the count first then the word\n",
    "counts.sort()\n",
    "\n",
    "# Reverse the list to get descending order\n",
    "counts.reverse()\n",
    "\n",
    "# Print most used words\n",
    "n = 10\n",
    "for count, word in counts[:n]:\n",
    "    print(\"{:-2d}  {}\".format(count, word))"
   ]
  }
 ],
 "metadata": {
  "celltoolbar": null,
  "kernelspec": {
   "display_name": "Python 3",
   "language": "python",
   "name": "python3"
  },
  "language_info": {
   "codemirror_mode": {
    "name": "ipython",
    "version": 3
   },
   "file_extension": ".py",
   "mimetype": "text/x-python",
   "name": "python",
   "nbconvert_exporter": "python",
   "pygments_lexer": "ipython3",
   "version": "3.6.2"
  }
 },
 "nbformat": 4,
 "nbformat_minor": 2
}
