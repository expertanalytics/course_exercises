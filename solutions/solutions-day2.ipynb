{
 "cells": [
  {
   "cell_type": "markdown",
   "metadata": {
    "tags": [
     "solution"
    ]
   },
   "source": [
    "# Solutions to exercises"
   ]
  },
  {
   "cell_type": "markdown",
   "metadata": {},
   "source": [
    "### Ex 1 - Counting colors in a list\n",
    "Given a list of colors, normalize the entries by stripping white spaces, lowercase the names, and replacing internal whitespaces with underscores. Then construct a dictionary `color_position` where the keys are normalized color names, and the values are a list of indices to the position in the original list. Print the colors together with the number of occurances, sorted by the color name. "
   ]
  },
  {
   "cell_type": "code",
   "execution_count": null,
   "metadata": {
    "tags": [
     "setup"
    ]
   },
   "outputs": [],
   "source": [
    "colors = [\"Blue\", \"RED\", \"Yellow\", \"blue\", \" light green\", \"red \", \"blUe\", \"light_green\", \"   black\"]"
   ]
  },
  {
   "cell_type": "code",
   "execution_count": null,
   "metadata": {
    "tags": [
     "solution"
    ]
   },
   "outputs": [],
   "source": [
    "color_position = {}\n",
    "for (i, color) in enumerate(colors):\n",
    "    colors[i] = color.strip().lower().replace(\" \", \"_\")\n",
    "    if colors[i] not in color_position:\n",
    "        color_position[colors[i]] = []\n",
    "    color_position[colors[i]].append(i)\n",
    "# Print the result\n",
    "for color in sorted(color_position):\n",
    "    print(\"The color {:11} occurred {} times\".format(color, len(color_position[color])))"
   ]
  },
  {
   "cell_type": "markdown",
   "metadata": {},
   "source": [
    "### Ex 2 - Iterators"
   ]
  },
  {
   "cell_type": "markdown",
   "metadata": {},
   "source": [
    "#### Ex 2a - Sum lists\n",
    "Given three list of numbers, construct a new list of numbers where at each index, the value is the sum of the three lists at the same index."
   ]
  },
  {
   "cell_type": "code",
   "execution_count": null,
   "metadata": {
    "tags": [
     "setup"
    ]
   },
   "outputs": [],
   "source": [
    "a = [0, 2, 4, 6, 8, 10]\n",
    "b = [1, 3, 5, 7, 9, 11]\n",
    "c = [-1, -5, -9, -13, -17, -21]"
   ]
  },
  {
   "cell_type": "code",
   "execution_count": null,
   "metadata": {
    "tags": [
     "solution"
    ]
   },
   "outputs": [],
   "source": [
    "result = []\n",
    "for first, second, third in zip(a, b, c):\n",
    "    result.append(first + second + third)"
   ]
  },
  {
   "cell_type": "markdown",
   "metadata": {},
   "source": [
    "#### Ex 2b - Add content of one dictionary to another\n",
    "Given two dictionaries, update the one with the content of the other, but only if the first does not have the key"
   ]
  },
  {
   "cell_type": "code",
   "execution_count": null,
   "metadata": {
    "tags": [
     "setup"
    ]
   },
   "outputs": [],
   "source": [
    "first = {\"firstname\": \"Kåre\",\n",
    "         \"lastname\": \"Dump\",\n",
    "         \"phone\": 9988663}\n",
    "second = {\"firstname\": \"Kaare\",\n",
    "          \"lastname\": \" Dump\",\n",
    "          \"address\": \"Code Creek 58\"}"
   ]
  },
  {
   "cell_type": "code",
   "execution_count": null,
   "metadata": {
    "tags": [
     "solution"
    ]
   },
   "outputs": [],
   "source": [
    "for key in second:\n",
    "    if key not in first:\n",
    "        first[key] = second[key]"
   ]
  },
  {
   "cell_type": "markdown",
   "metadata": {},
   "source": [
    "### Ex 3  - Exceptions\n"
   ]
  },
  {
   "cell_type": "markdown",
   "metadata": {},
   "source": [
    "#### Ex 3a - Except IndexError\n",
    "Given a list of numbers, use an infinite `while` loop to `pop` off values and compute the average."
   ]
  },
  {
   "cell_type": "code",
   "execution_count": null,
   "metadata": {
    "tags": [
     "solution"
    ]
   },
   "outputs": [],
   "source": [
    "a = list(range(0, 100, 3))\n",
    "avg = 0.0\n",
    "\n",
    "n = len(a)\n",
    "while True:\n",
    "    try:\n",
    "        avg += a.pop()\n",
    "    except IndexError:\n",
    "        avg /= n\n",
    "        break"
   ]
  },
  {
   "cell_type": "markdown",
   "metadata": {},
   "source": [
    "#### Ex 3b - Examine a mixed list\n",
    "Given the list `mixed`, containing several different types, print out the type of the element and whether or not it can be indexed with the integer `0`. Hint: When trying to index a number, Python with raise a `TypeError`, and when you try to access a dictionary with an invalid key, a `KeyError` is raised.\n"
   ]
  },
  {
   "cell_type": "code",
   "execution_count": null,
   "metadata": {
    "tags": [
     "setup"
    ]
   },
   "outputs": [],
   "source": [
    "mixed = [(0, 1), {\"answer\": 42}, 4.5, \"oops?\", {0, 1, 2}, [-3, -2, -1]]"
   ]
  },
  {
   "cell_type": "code",
   "execution_count": null,
   "metadata": {
    "tags": [
     "solution"
    ]
   },
   "outputs": [],
   "source": [
    "index = 0\n",
    "for item in mixed:\n",
    "    try:\n",
    "        item[index]\n",
    "        print(\"The {} {} could be indexed with {}\".format(type(item).__name__, item, index))\n",
    "    except KeyError:\n",
    "        print(\"The {} {} could not be indexed with {}\".format(type(item).__name__, item, index))\n",
    "    except TypeError:\n",
    "        print(\"The {} {} could not be indexed with {}\".format(type(item).__name__, item, index))\n",
    "\n"
   ]
  },
  {
   "cell_type": "markdown",
   "metadata": {},
   "source": [
    "### Ex 4 - Files"
   ]
  },
  {
   "cell_type": "markdown",
   "metadata": {},
   "source": [
    "#### Ex 4a - Write a file\n",
    "Given a list `xs` of floats, write a file named `my_file.txt` on the format\n",
    "```\n",
    "sin(x_1) = y_1\n",
    "sin(x_2) = y_2\n",
    "```\n",
    "for all the values in the list. Make sure you are in your personal directory for this exercise."
   ]
  },
  {
   "cell_type": "code",
   "execution_count": null,
   "metadata": {
    "tags": [
     "setup"
    ]
   },
   "outputs": [],
   "source": [
    "from math import sin, pi\n",
    "\n",
    "xs = [0, pi/2, pi, 3*pi/2, 2*pi]"
   ]
  },
  {
   "cell_type": "code",
   "execution_count": null,
   "metadata": {
    "tags": [
     "solution"
    ]
   },
   "outputs": [],
   "source": [
    "with open(\"my_file.txt\", \"w\") as fh:\n",
    "    for x in xs:\n",
    "        fh.write(\"sin({:.2f}) = {:.2f}\\n\".format(x, sin(x)))"
   ]
  },
  {
   "cell_type": "markdown",
   "metadata": {},
   "source": [
    "#### Ex 4b - Read a file\n",
    "Read the file written in Ex 4a, and construct two lists, `xs` and `ys`. Check that the values in `ys` are really `sin(x)` for each `x` in `xs`."
   ]
  },
  {
   "cell_type": "code",
   "execution_count": null,
   "metadata": {
    "tags": [
     "solution"
    ]
   },
   "outputs": [],
   "source": [
    "from math import isclose\n",
    "xs = []\n",
    "ys = []\n",
    "with open(\"my_file.txt\", \"r\") as infile:\n",
    "    for line in infile:\n",
    "        first, second = line.split(\"=\")\n",
    "        x_str = first.split(\"(\")[1].split(\")\")[0]\n",
    "        xs.append(float(x_str))\n",
    "        ys.append(float(second))\n",
    "for x, y in zip(xs, ys):\n",
    "    if isclose(sin(x), y, abs_tol=1.e-2):\n",
    "        print(\"sin({}) = {}, is close to {}\".format(x, sin(x), y))\n",
    "    else:\n",
    "        print(\"sin({}) = {}, is not close to {}\".format(x, sin(x), y))\n"
   ]
  },
  {
   "cell_type": "markdown",
   "metadata": {},
   "source": [
    "### Ex 5 - Functions"
   ]
  },
  {
   "cell_type": "markdown",
   "metadata": {},
   "source": [
    "#### Ex 5a - Write a function to check Ex 4b\n",
    "\n",
    "Write a function `validate_formula` that takes two arguments as arguments. The first argument, `xs` should be a list of floats. The second argument `ys` should be a list of the same length as `xs`, and only contain floats as well. The function should check that `ys[i] == sin(xs[i])` is approximately true for all values the the lists. If at least one comparision failes, the function should return `False`, and `True` otherwise."
   ]
  },
  {
   "cell_type": "code",
   "execution_count": null,
   "metadata": {
    "tags": [
     "setup"
    ]
   },
   "outputs": [],
   "source": [
    "import math\n",
    "x_values = [0, math.pi/2, math.pi, 3*math.pi/2]\n",
    "y_values = []\n",
    "for x in x_values:\n",
    "    y_values.append(math.sin(x))\n",
    "\n",
    "y_values_2 = y_values[:]\n",
    "y_values_2[-1] -= 1"
   ]
  },
  {
   "cell_type": "code",
   "execution_count": null,
   "metadata": {
    "tags": [
     "solution"
    ]
   },
   "outputs": [],
   "source": [
    "def validate_formula(xs, ys):\n",
    "    assert len(xs) == len(ys)\n",
    "    assert {type(x) for x in xs}.issubset({float, int})\n",
    "    assert {type(y) for y in ys}.issubset({float, int})\n",
    "    for x, y in zip(xs, ys):\n",
    "        if not math.isclose(math.sin(x), y, rel_tol=1e-3):\n",
    "            return False\n",
    "    return True\n",
    "ans1 = validate_formula(x_values, y_values)\n",
    "assert ans1\n",
    "ans2 = validate_formula(x_values, y_values_2)\n",
    "assert not ans2"
   ]
  },
  {
   "cell_type": "markdown",
   "metadata": {},
   "source": [
    "#### Ex 5b - Extend the 5a with custom function\n",
    "\n",
    "Write a new function `validate_with function`, similar to `validate_formula`, that takes three extra arguments:\n",
    "* func: A function used to evaluate each `x` in `xs`\n",
    "* rtol: A relative tolerance used to compare the results. Should default to `1.0e-5`\n",
    "* atol: An absolute tolerance use to compare the results. Should default to `1.0e-3`"
   ]
  },
  {
   "cell_type": "code",
   "execution_count": null,
   "metadata": {
    "tags": [
     "setup"
    ]
   },
   "outputs": [],
   "source": [
    "import math\n",
    "x_values = [0, math.pi/2, math.pi, 3*math.pi/2]\n",
    "sin_values = []\n",
    "cos_values = []\n",
    "for x in x_values:\n",
    "    sin_values.append(math.sin(x))\n",
    "    cos_values.append(math.cos(x))"
   ]
  },
  {
   "cell_type": "code",
   "execution_count": null,
   "metadata": {
    "tags": [
     "solution"
    ]
   },
   "outputs": [],
   "source": [
    "def validate_with_function(xs, ys, func, rtol=1.0e-5, atol=1.0e-3):\\\n",
    "    assert len(xs) == len(ys)\n",
    "    assert {type(x) for x in xs}.issubset({float, int})\n",
    "    assert {type(y) for y in ys}.issubset({float, int})\n",
    "    for x, y in zip(xs, ys):\n",
    "        if not math.isclose(func(x), y, rel_tol=rtol, abs_tol=atol):\n",
    "            return False\n",
    "    return True\n",
    "ans1 = validate_with_function(x_values, sin_values, math.sin)\n",
    "ans2 = validate_with_function(x_values, cos_values, math.cos, atol=1.0e-2)\n",
    "assert ans1\n",
    "assert  ans2"
   ]
  },
  {
   "cell_type": "markdown",
   "metadata": {},
   "source": [
    "### Ex 6 - Documentation\n"
   ]
  },
  {
   "cell_type": "markdown",
   "metadata": {},
   "source": [
    "#### Ex 6a - Document a function\n",
    "Write documentation for the function `validate_with_function` above. Check that this documentation is available as help to users by typing `help(validate_with_function)` and inspect the result. Make sure you cover all use cases."
   ]
  },
  {
   "cell_type": "code",
   "execution_count": null,
   "metadata": {},
   "outputs": [],
   "source": [
    "def validate_with_function(xs, ys, func, rtol=1.0e-5, atol=1.0e-3):\n",
    "    \"\"\"Validate that ys[i] == func(xs[i]) within given tolerance.\n",
    "    \n",
    "    Args:\n",
    "        xs (list(int, float)): List of x values.\n",
    "        ys (list(int, float)): List of y values.\n",
    "        func (callable): unary function returning float.\n",
    "        rtol (float, optional): relative tolerance for comparision.\n",
    "        atol (float, optional): absolute tolerance for comparision.\n",
    "    \n",
    "    Returns:\n",
    "        bool: True if all values match, False otherwise.\n",
    "    \"\"\"\n",
    "    assert len(xs) == len(ys)\n",
    "    assert {type(x) for x in xs}.issubset({float, int})\n",
    "    assert {type(y) for y in ys}.issubset({float, int})\n",
    "    for x, y in zip(xs, ys):\n",
    "        if not math.isclose(func(x), y, rel_tol=rtol, abs_tol=atol):\n",
    "            return False\n",
    "    return True\n",
    "help(validate_with_function)"
   ]
  },
  {
   "cell_type": "code",
   "execution_count": null,
   "metadata": {},
   "outputs": [],
   "source": []
  }
 ],
 "metadata": {
  "celltoolbar": null,
  "kernelspec": {
   "display_name": "Python 3",
   "language": "python",
   "name": "python3"
  },
  "language_info": {
   "codemirror_mode": {
    "name": "ipython",
    "version": 3
   },
   "file_extension": ".py",
   "mimetype": "text/x-python",
   "name": "python",
   "nbconvert_exporter": "python",
   "pygments_lexer": "ipython3",
   "version": "3.6.2"
  }
 },
 "nbformat": 4,
 "nbformat_minor": 2
}
